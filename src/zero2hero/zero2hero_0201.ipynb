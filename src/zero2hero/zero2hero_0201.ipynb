{
 "cells": [
  {
   "cell_type": "markdown",
   "metadata": {},
   "source": [
    "# Zero to Hero"
   ]
  },
  {
   "cell_type": "markdown",
   "metadata": {},
   "source": [
    "## 2.01 Optimizacion Bayesiana"
   ]
  },
  {
   "cell_type": "code",
   "execution_count": 1,
   "metadata": {
    "vscode": {
     "languageId": "r"
    }
   },
   "outputs": [
    {
     "ename": "ERROR",
     "evalue": "Error in parse(text = x, srcfile = src): <text>:1:4: unexpected symbol\n1: El objetivo\n       ^\n",
     "output_type": "error",
     "traceback": [
      "Error in parse(text = x, srcfile = src): <text>:1:4: unexpected symbol\n1: El objetivo\n       ^\nTraceback:\n"
     ]
    }
   ],
   "source": [
    "El objetivo es mostrar como funciona la Optimizacion Bayesiana en el caso mas simple : una funcion univariada"
   ]
  },
  {
   "cell_type": "markdown",
   "metadata": {},
   "source": [
    "### Advertencia"
   ]
  },
  {
   "cell_type": "markdown",
   "metadata": {},
   "source": [
    "El uso del método de Optimización Bayesiana para la optimización de hiperparámetros en modelos predictivos tiene menos de una década.\n",
    "Entender los fundamentos de la O.B. requieren de una sólida formación matemática y **no** son el objetivo de esta asignatura.\n",
    "Para quienes deseen aventurarse a los detalles técnicos:\n",
    "* El paper original de la libreria mlrMBO (año 2018 )   https://arxiv.org/pdf/1703.03373.pdf\n",
    "* El método de Kriging , tal cual se deriva del uso original, en este pequeño libro de 106 páginas \"Basic Steps in Geostatistics: The Variogram and Kriging\" https://www.pdfdrive.com/basic-steps-in-geostatistics-the-variogram-and-kriging-e187336318.html"
   ]
  },
  {
   "cell_type": "markdown",
   "metadata": {},
   "source": [
    "### El código"
   ]
  },
  {
   "cell_type": "code",
   "execution_count": 3,
   "metadata": {
    "vscode": {
     "languageId": "r"
    }
   },
   "outputs": [
    {
     "data": {
      "text/html": [
       "<table class=\"dataframe\">\n",
       "<caption>A matrix: 2 × 6 of type dbl</caption>\n",
       "<thead>\n",
       "\t<tr><th></th><th scope=col>used</th><th scope=col>(Mb)</th><th scope=col>gc trigger</th><th scope=col>(Mb)</th><th scope=col>max used</th><th scope=col>(Mb)</th></tr>\n",
       "</thead>\n",
       "<tbody>\n",
       "\t<tr><th scope=row>Ncells</th><td> 632254</td><td>33.8</td><td>1290864</td><td>69</td><td>1290864</td><td>69.0</td></tr>\n",
       "\t<tr><th scope=row>Vcells</th><td>1139821</td><td> 8.7</td><td>8388608</td><td>64</td><td>1632186</td><td>12.5</td></tr>\n",
       "</tbody>\n",
       "</table>\n"
      ],
      "text/latex": [
       "A matrix: 2 × 6 of type dbl\n",
       "\\begin{tabular}{r|llllll}\n",
       "  & used & (Mb) & gc trigger & (Mb) & max used & (Mb)\\\\\n",
       "\\hline\n",
       "\tNcells &  632254 & 33.8 & 1290864 & 69 & 1290864 & 69.0\\\\\n",
       "\tVcells & 1139821 &  8.7 & 8388608 & 64 & 1632186 & 12.5\\\\\n",
       "\\end{tabular}\n"
      ],
      "text/markdown": [
       "\n",
       "A matrix: 2 × 6 of type dbl\n",
       "\n",
       "| <!--/--> | used | (Mb) | gc trigger | (Mb) | max used | (Mb) |\n",
       "|---|---|---|---|---|---|---|\n",
       "| Ncells |  632254 | 33.8 | 1290864 | 69 | 1290864 | 69.0 |\n",
       "| Vcells | 1139821 |  8.7 | 8388608 | 64 | 1632186 | 12.5 |\n",
       "\n"
      ],
      "text/plain": [
       "       used    (Mb) gc trigger (Mb) max used (Mb)\n",
       "Ncells  632254 33.8 1290864    69   1290864  69.0\n",
       "Vcells 1139821  8.7 8388608    64   1632186  12.5"
      ]
     },
     "metadata": {},
     "output_type": "display_data"
    },
    {
     "name": "stderr",
     "output_type": "stream",
     "text": [
      "Loading required package: DiceKriging\n",
      "\n",
      "Loading required package: mlrMBO\n",
      "\n",
      "Loading required package: mlr\n",
      "\n",
      "Loading required package: ParamHelpers\n",
      "\n",
      "Warning message: 'mlr' is in 'maintenance-only' mode since July 2019.\n",
      "Future development will only happen in 'mlr3'\n",
      "(<https://mlr3.mlr-org.com>). Due to the focus on 'mlr3' there might be\n",
      "uncaught bugs meanwhile in {mlr} - please consider switching.\n",
      "\n",
      "Loading required package: smoof\n",
      "\n",
      "Loading required package: checkmate\n",
      "\n",
      "\n",
      "Attaching package: 'checkmate'\n",
      "\n",
      "\n",
      "The following object is masked from 'package:DiceKriging':\n",
      "\n",
      "    checkNames\n",
      "\n",
      "\n"
     ]
    }
   ],
   "source": [
    "#Ejemplo de optimizacion bayesiana, univariada\n",
    "\n",
    "#limpio la memoria\n",
    "rm( list=ls() )  #remove all objects\n",
    "gc()             #garbage collection\n",
    "\n",
    "require(\"data.table\")\n",
    "#paquetes necesarios para la Bayesian Optimization\n",
    "require(\"DiceKriging\")\n",
    "require(\"mlrMBO\")\n",
    "\n",
    "options(repr.plot.width=20, repr.plot.height=10)"
   ]
  },
  {
   "cell_type": "markdown",
   "metadata": {},
   "source": [
    "### Defino la funcion a optimizar, un polinomio de grado 4"
   ]
  },
  {
   "cell_type": "code",
   "execution_count": 4,
   "metadata": {
    "vscode": {
     "languageId": "r"
    }
   },
   "outputs": [],
   "source": [
    "func_univariada01  <- function( x )\n",
    "{\n",
    "  y  <- -2 * (x+13) * (x-3) * (x-7) * (x-19)\n",
    "\n",
    "  return( y )\n",
    "}"
   ]
  },
  {
   "cell_type": "markdown",
   "metadata": {},
   "source": [
    "Grafico la funcion"
   ]
  },
  {
   "cell_type": "code",
   "execution_count": 5,
   "metadata": {
    "vscode": {
     "languageId": "r"
    }
   },
   "outputs": [
    {
     "data": {
      "image/png": "[encoded data removed]",
      "text/plain": [
       "plot without title"
      ]
     },
     "metadata": {
      "image/png": {
       "height": 600,
       "width": 1200
      }
     },
     "output_type": "display_data"
    }
   ],
   "source": [
    "intervalo  <- seq(-15,21,0.1)\n",
    "plot(intervalo, func_univariada01(intervalo))"
   ]
  },
  {
   "cell_type": "markdown",
   "metadata": {},
   "source": [
    "La funcion tiene dos máximos, uno de ellos es el global."
   ]
  },
  {
   "cell_type": "markdown",
   "metadata": {},
   "source": [
    "### Optimizacion Bayesiana"
   ]
  },
  {
   "cell_type": "markdown",
   "metadata": {},
   "source": [
    "¿Qué tan rápido encontrará la Optmización Bayesiana el máximo global?"
   ]
  },
  {
   "cell_type": "markdown",
   "metadata": {},
   "source": [
    "Defino las caracteristicas de la optimizacion"
   ]
  },
  {
   "cell_type": "markdown",
   "metadata": {},
   "source": [
    "* **fn**    es el nombre de la funcion\n",
    "* **minimize**   por defecto es TRUE,  pero en este caso le asigno FALSE, ya que deseo maximizar  el valor\n",
    "* **par.set**  indica cuales son los hiperparmetros de la funcion, en este caso hay una sola variable que llamé  x\n",
    "---\n",
    "* **makeNumericParam** indica que ese hiperparámetro es un numero real, una variable continua  ( no es ni un entero ni una categoria )"
   ]
  },
  {
   "cell_type": "code",
   "execution_count": 6,
   "metadata": {
    "vscode": {
     "languageId": "r"
    }
   },
   "outputs": [],
   "source": [
    "obj.fun  <- makeSingleObjectiveFunction(\n",
    "              fn=       func_univariada01,\n",
    "              minimize= FALSE,   #estoy Maximizando la ganancia\n",
    "              par.set=  makeParamSet(  makeNumericParam( \"x\", lower= -100, upper=  100) ),\n",
    "             )"
   ]
  },
  {
   "cell_type": "markdown",
   "metadata": {},
   "source": [
    "ahora defino la funcion proxy, la que se construye internamente intentando emular la realidad"
   ]
  },
  {
   "cell_type": "markdown",
   "metadata": {},
   "source": [
    "* **cl**  es la clase de learner,  \"reg.km\" indica el método de kriging \"**reg**ression **k**riging **m**ethodd\"\n",
    "* **predict.type**  es el tipo de prediccion que deseo me devuelva, \"se\" significa que espero dos valores  media y standard error\n",
    "* **covtype**    es la funcion de covarianza que se va a utilizar, cual es la covarianza de dos mediciones como fucion de la distancia entre los puntos donde fueron tomadas las mediciones, fue inventada por Bertil Matérn "
   ]
  },
  {
   "cell_type": "markdown",
   "metadata": {},
   "source": [
    "El método de kriging puede verse en su forma original (la geología) , esta presentación https://www.youtube.com/watch?v=ZB7GvJrNKq0"
   ]
  },
  {
   "cell_type": "code",
   "execution_count": 7,
   "metadata": {
    "vscode": {
     "languageId": "r"
    }
   },
   "outputs": [],
   "source": [
    "fproxy  <- makeLearner( cl= \"regr.km\",\n",
    "                        predict.type= \"se\", \n",
    "                        covtype= \"matern3_2\" )"
   ]
  },
  {
   "cell_type": "markdown",
   "metadata": {},
   "source": [
    "ultima definicion,  especificar la optimizacion bayesiana\n",
    "*  **crit**   indica el criterio con el que se completan los valores iniciales \"no inteligentes\"\n",
    "*  **iters**  indica la cantidad de iteraciones inteligentes que hará la Optimizacion Bayesiana, las que son adicionales a las primeras cuatro de este caso.*  **iters**  indica la cantidad de iteraciones inteligentes que hará la Optimizacion Bayesiana, las que son adicionales a las primeras cuatro de este caso."
   ]
  },
  {
   "cell_type": "code",
   "execution_count": 9,
   "metadata": {
    "vscode": {
     "languageId": "r"
    }
   },
   "outputs": [],
   "source": [
    "ctrl  <- makeMBOControl()\n",
    "ctrl  <- setMBOControlInfill( ctrl, crit= makeMBOInfillCritEI())\n",
    "ctrl  <- setMBOControlTermination( ctrl, iters= 25 )"
   ]
  },
  {
   "cell_type": "markdown",
   "metadata": {},
   "source": [
    "finalmente , lanzo la Optimizacion Bayesiana"
   ]
  },
  {
   "cell_type": "markdown",
   "metadata": {},
   "source": [
    "* **fun**  es la especificacion de la funcion que deseo optimizar, si maximizo o minimizo, cuales son las variables de la misma\n",
    "* **learner**  especifica cual es la función proxy interna que va a utilizar la Optimziación Bayesiana\n",
    "* **control**  indica la la forma en que se harán las iteraciones"
   ]
  },
  {
   "cell_type": "code",
   "execution_count": null,
   "metadata": {
    "vscode": {
     "languageId": "r"
    }
   },
   "outputs": [],
   "source": [
    "run  <- mbo( fun=      obj.fun, \n",
    "             learner= fproxy, \n",
    "             control= ctrl )"
   ]
  },
  {
   "cell_type": "code",
   "execution_count": 11,
   "metadata": {
    "vscode": {
     "languageId": "r"
    }
   },
   "outputs": [],
   "source": [
    "tb_resultados  <- as.data.table( run$opt.path )"
   ]
  },
  {
   "cell_type": "code",
   "execution_count": 12,
   "metadata": {
    "vscode": {
     "languageId": "r"
    }
   },
   "outputs": [
    {
     "data": {
      "text/html": [
       "<table class=\"dataframe\">\n",
       "<caption>A data.table: 29 × 13</caption>\n",
       "<thead>\n",
       "\t<tr><th scope=col>x</th><th scope=col>y</th><th scope=col>dob</th><th scope=col>eol</th><th scope=col>error.message</th><th scope=col>exec.time</th><th scope=col>ei</th><th scope=col>error.model</th><th scope=col>train.time</th><th scope=col>prop.type</th><th scope=col>propose.time</th><th scope=col>se</th><th scope=col>mean</th></tr>\n",
       "\t<tr><th scope=col>&lt;dbl&gt;</th><th scope=col>&lt;dbl&gt;</th><th scope=col>&lt;int&gt;</th><th scope=col>&lt;int&gt;</th><th scope=col>&lt;chr&gt;</th><th scope=col>&lt;dbl&gt;</th><th scope=col>&lt;dbl&gt;</th><th scope=col>&lt;chr&gt;</th><th scope=col>&lt;dbl&gt;</th><th scope=col>&lt;chr&gt;</th><th scope=col>&lt;dbl&gt;</th><th scope=col>&lt;dbl&gt;</th><th scope=col>&lt;dbl&gt;</th></tr>\n",
       "</thead>\n",
       "<tbody>\n",
       "\t<tr><td> 44.4615677</td><td>-4.544899e+06</td><td> 0</td><td>NA</td><td>NA</td><td>0.07</td><td>          NA</td><td>NA</td><td>  NA</td><td>initdesign</td><td>  NA</td><td>         NA</td><td>           NA</td></tr>\n",
       "\t<tr><td>-30.4035122</td><td>-2.148470e+06</td><td> 0</td><td>NA</td><td>NA</td><td>0.00</td><td>          NA</td><td>NA</td><td>  NA</td><td>initdesign</td><td>  NA</td><td>         NA</td><td>           NA</td></tr>\n",
       "\t<tr><td>-97.9854614</td><td>-2.108116e+08</td><td> 0</td><td>NA</td><td>NA</td><td>0.00</td><td>          NA</td><td>NA</td><td>  NA</td><td>initdesign</td><td>  NA</td><td>         NA</td><td>           NA</td></tr>\n",
       "\t<tr><td> 58.9270638</td><td>-1.668036e+07</td><td> 0</td><td>NA</td><td>NA</td><td>0.00</td><td>          NA</td><td>NA</td><td>  NA</td><td>initdesign</td><td>  NA</td><td>         NA</td><td>           NA</td></tr>\n",
       "\t<tr><td>  0.7023075</td><td> 7.255935e+03</td><td> 1</td><td>NA</td><td>NA</td><td>0.00</td><td>-27814530.34</td><td>NA</td><td>0.27</td><td>infill_ei </td><td>0.67</td><td>47506359.61</td><td> 1.353021e+07</td></tr>\n",
       "\t<tr><td>-16.4331489</td><td>-1.107914e+05</td><td> 2</td><td>NA</td><td>NA</td><td>0.00</td><td> -7962471.37</td><td>NA</td><td>0.14</td><td>infill_ei </td><td>0.66</td><td>12184350.54</td><td> 5.305566e+06</td></tr>\n",
       "\t<tr><td> 22.2132002</td><td>-6.614447e+04</td><td> 3</td><td>NA</td><td>NA</td><td>0.00</td><td> -5627875.94</td><td>NA</td><td>0.09</td><td>infill_ei </td><td>0.58</td><td>11958142.01</td><td> 1.633677e+06</td></tr>\n",
       "\t<tr><td> 99.9999463</td><td>-1.651381e+08</td><td> 4</td><td>NA</td><td>NA</td><td>0.00</td><td> -2626924.79</td><td>NA</td><td>0.14</td><td>infill_ei </td><td>0.80</td><td>44309171.84</td><td>-5.196542e+07</td></tr>\n",
       "\t<tr><td> 11.5998651</td><td> 1.440254e+04</td><td> 5</td><td>NA</td><td>NA</td><td>0.00</td><td> -2310627.92</td><td>NA</td><td>0.03</td><td>infill_ei </td><td>0.61</td><td> 5382398.32</td><td> 3.264307e+05</td></tr>\n",
       "\t<tr><td>-23.2315147</td><td>-6.853144e+05</td><td> 6</td><td>NA</td><td>NA</td><td>0.00</td><td> -1256231.93</td><td>NA</td><td>0.08</td><td>infill_ei </td><td>0.56</td><td> 2695021.45</td><td> 3.589966e+05</td></tr>\n",
       "\t<tr><td> -7.7594321</td><td> 4.453939e+04</td><td> 7</td><td>NA</td><td>NA</td><td>0.01</td><td> -1097435.54</td><td>NA</td><td>0.09</td><td>infill_ei </td><td>0.67</td><td> 2605268.31</td><td> 1.285745e+05</td></tr>\n",
       "\t<tr><td> 30.9625362</td><td>-7.047666e+05</td><td> 8</td><td>NA</td><td>NA</td><td>0.00</td><td>  -864535.07</td><td>NA</td><td>0.09</td><td>infill_ei </td><td>0.67</td><td> 3319795.66</td><td>-1.006975e+06</td></tr>\n",
       "\t<tr><td>  6.2199843</td><td>-1.233876e+03</td><td> 9</td><td>NA</td><td>NA</td><td>0.00</td><td>  -467086.11</td><td>NA</td><td>0.10</td><td>infill_ei </td><td>0.61</td><td> 1218183.11</td><td> 6.262345e+03</td></tr>\n",
       "\t<tr><td> 16.9431105</td><td> 1.707732e+04</td><td>10</td><td>NA</td><td>NA</td><td>0.00</td><td>  -388253.22</td><td>NA</td><td>0.14</td><td>infill_ei </td><td>0.70</td><td> 1015444.00</td><td> 1.038036e+04</td></tr>\n",
       "\t<tr><td>-11.9062186</td><td> 1.905367e+04</td><td>11</td><td>NA</td><td>NA</td><td>0.00</td><td>  -295805.02</td><td>NA</td><td>0.10</td><td>infill_ei </td><td>2.36</td><td>  743951.92</td><td> 4.255958e+04</td></tr>\n",
       "\t<tr><td> -3.5577676</td><td> 2.949368e+04</td><td>12</td><td>NA</td><td>NA</td><td>0.00</td><td>  -247588.76</td><td>NA</td><td>0.08</td><td>infill_ei </td><td>0.76</td><td>  636305.36</td><td> 3.191882e+04</td></tr>\n",
       "\t<tr><td> 26.0641048</td><td>-2.426711e+05</td><td>13</td><td>NA</td><td>NA</td><td>0.00</td><td>  -159216.69</td><td>NA</td><td>0.36</td><td>infill_ei </td><td>1.45</td><td>  678516.58</td><td>-2.186205e+05</td></tr>\n",
       "\t<tr><td> 14.2783000</td><td> 2.114556e+04</td><td>14</td><td>NA</td><td>NA</td><td>0.03</td><td>  -118015.83</td><td>NA</td><td>0.11</td><td>infill_ei </td><td>1.92</td><td>  324438.27</td><td> 2.102730e+04</td></tr>\n",
       "\t<tr><td>  3.4651928</td><td>-8.412041e+02</td><td>15</td><td>NA</td><td>NA</td><td>0.00</td><td>  -107204.56</td><td>NA</td><td>0.33</td><td>infill_ei </td><td>8.86</td><td>  322183.93</td><td>-6.404652e+02</td></tr>\n",
       "\t<tr><td>  8.9459826</td><td> 5.106076e+03</td><td>16</td><td>NA</td><td>NA</td><td>0.00</td><td>   -92216.41</td><td>NA</td><td>0.13</td><td>infill_ei </td><td>3.09</td><td>  277601.04</td><td> 5.265690e+03</td></tr>\n",
       "\t<tr><td> 19.4501277</td><td>-5.983086e+03</td><td>17</td><td>NA</td><td>NA</td><td>0.00</td><td>   -84447.64</td><td>NA</td><td>0.11</td><td>infill_ei </td><td>2.52</td><td>  269353.93</td><td>-5.121006e+03</td></tr>\n",
       "\t<tr><td> -5.7081391</td><td> 3.987638e+04</td><td>18</td><td>NA</td><td>NA</td><td>0.00</td><td>   -79091.10</td><td>NA</td><td>0.74</td><td>infill_ei </td><td>0.84</td><td>  203323.29</td><td> 4.046043e+04</td></tr>\n",
       "\t<tr><td> -9.8319327</td><td> 3.945701e+04</td><td>19</td><td>NA</td><td>NA</td><td>0.00</td><td>   -70717.70</td><td>NA</td><td>0.11</td><td>infill_ei </td><td>0.78</td><td>  185708.50</td><td> 3.770038e+04</td></tr>\n",
       "\t<tr><td> -1.4690901</td><td> 1.786685e+04</td><td>20</td><td>NA</td><td>NA</td><td>0.00</td><td>   -59717.04</td><td>NA</td><td>0.08</td><td>infill_ei </td><td>0.87</td><td>  181091.95</td><td> 1.792541e+04</td></tr>\n",
       "\t<tr><td>-14.0185063</td><td>-2.405883e+04</td><td>21</td><td>NA</td><td>NA</td><td>0.00</td><td>   -54052.15</td><td>NA</td><td>0.15</td><td>infill_ei </td><td>0.83</td><td>  203185.30</td><td>-1.680868e+04</td></tr>\n",
       "\t<tr><td> 15.5954142</td><td> 2.107997e+04</td><td>22</td><td>NA</td><td>NA</td><td>0.00</td><td>   -26931.07</td><td>NA</td><td>0.14</td><td>infill_ei </td><td>2.37</td><td>   93967.83</td><td> 2.110692e+04</td></tr>\n",
       "\t<tr><td> -8.7714550</td><td> 4.360351e+04</td><td>23</td><td>NA</td><td>NA</td><td>0.00</td><td>   -24805.55</td><td>NA</td><td>0.17</td><td>infill_ei </td><td>1.96</td><td>   63396.00</td><td> 4.356178e+04</td></tr>\n",
       "\t<tr><td> 12.9216856</td><td> 1.851430e+04</td><td>24</td><td>NA</td><td>NA</td><td>0.00</td><td>   -22939.33</td><td>NA</td><td>0.10</td><td>infill_ei </td><td>0.98</td><td>   86209.73</td><td> 1.852431e+04</td></tr>\n",
       "\t<tr><td> -6.7234938</td><td> 4.308885e+04</td><td>25</td><td>NA</td><td>NA</td><td>0.00</td><td>   -22017.14</td><td>NA</td><td>0.14</td><td>infill_ei </td><td>0.70</td><td>   56988.34</td><td> 4.308881e+04</td></tr>\n",
       "</tbody>\n",
       "</table>\n"
      ],
      "text/latex": [
       "A data.table: 29 × 13\n",
       "\\begin{tabular}{lllllllllllll}\n",
       " x & y & dob & eol & error.message & exec.time & ei & error.model & train.time & prop.type & propose.time & se & mean\\\\\n",
       " <dbl> & <dbl> & <int> & <int> & <chr> & <dbl> & <dbl> & <chr> & <dbl> & <chr> & <dbl> & <dbl> & <dbl>\\\\\n",
       "\\hline\n",
       "\t  44.4615677 & -4.544899e+06 &  0 & NA & NA & 0.07 &           NA & NA &   NA & initdesign &   NA &          NA &            NA\\\\\n",
       "\t -30.4035122 & -2.148470e+06 &  0 & NA & NA & 0.00 &           NA & NA &   NA & initdesign &   NA &          NA &            NA\\\\\n",
       "\t -97.9854614 & -2.108116e+08 &  0 & NA & NA & 0.00 &           NA & NA &   NA & initdesign &   NA &          NA &            NA\\\\\n",
       "\t  58.9270638 & -1.668036e+07 &  0 & NA & NA & 0.00 &           NA & NA &   NA & initdesign &   NA &          NA &            NA\\\\\n",
       "\t   0.7023075 &  7.255935e+03 &  1 & NA & NA & 0.00 & -27814530.34 & NA & 0.27 & infill\\_ei  & 0.67 & 47506359.61 &  1.353021e+07\\\\\n",
       "\t -16.4331489 & -1.107914e+05 &  2 & NA & NA & 0.00 &  -7962471.37 & NA & 0.14 & infill\\_ei  & 0.66 & 12184350.54 &  5.305566e+06\\\\\n",
       "\t  22.2132002 & -6.614447e+04 &  3 & NA & NA & 0.00 &  -5627875.94 & NA & 0.09 & infill\\_ei  & 0.58 & 11958142.01 &  1.633677e+06\\\\\n",
       "\t  99.9999463 & -1.651381e+08 &  4 & NA & NA & 0.00 &  -2626924.79 & NA & 0.14 & infill\\_ei  & 0.80 & 44309171.84 & -5.196542e+07\\\\\n",
       "\t  11.5998651 &  1.440254e+04 &  5 & NA & NA & 0.00 &  -2310627.92 & NA & 0.03 & infill\\_ei  & 0.61 &  5382398.32 &  3.264307e+05\\\\\n",
       "\t -23.2315147 & -6.853144e+05 &  6 & NA & NA & 0.00 &  -1256231.93 & NA & 0.08 & infill\\_ei  & 0.56 &  2695021.45 &  3.589966e+05\\\\\n",
       "\t  -7.7594321 &  4.453939e+04 &  7 & NA & NA & 0.01 &  -1097435.54 & NA & 0.09 & infill\\_ei  & 0.67 &  2605268.31 &  1.285745e+05\\\\\n",
       "\t  30.9625362 & -7.047666e+05 &  8 & NA & NA & 0.00 &   -864535.07 & NA & 0.09 & infill\\_ei  & 0.67 &  3319795.66 & -1.006975e+06\\\\\n",
       "\t   6.2199843 & -1.233876e+03 &  9 & NA & NA & 0.00 &   -467086.11 & NA & 0.10 & infill\\_ei  & 0.61 &  1218183.11 &  6.262345e+03\\\\\n",
       "\t  16.9431105 &  1.707732e+04 & 10 & NA & NA & 0.00 &   -388253.22 & NA & 0.14 & infill\\_ei  & 0.70 &  1015444.00 &  1.038036e+04\\\\\n",
       "\t -11.9062186 &  1.905367e+04 & 11 & NA & NA & 0.00 &   -295805.02 & NA & 0.10 & infill\\_ei  & 2.36 &   743951.92 &  4.255958e+04\\\\\n",
       "\t  -3.5577676 &  2.949368e+04 & 12 & NA & NA & 0.00 &   -247588.76 & NA & 0.08 & infill\\_ei  & 0.76 &   636305.36 &  3.191882e+04\\\\\n",
       "\t  26.0641048 & -2.426711e+05 & 13 & NA & NA & 0.00 &   -159216.69 & NA & 0.36 & infill\\_ei  & 1.45 &   678516.58 & -2.186205e+05\\\\\n",
       "\t  14.2783000 &  2.114556e+04 & 14 & NA & NA & 0.03 &   -118015.83 & NA & 0.11 & infill\\_ei  & 1.92 &   324438.27 &  2.102730e+04\\\\\n",
       "\t   3.4651928 & -8.412041e+02 & 15 & NA & NA & 0.00 &   -107204.56 & NA & 0.33 & infill\\_ei  & 8.86 &   322183.93 & -6.404652e+02\\\\\n",
       "\t   8.9459826 &  5.106076e+03 & 16 & NA & NA & 0.00 &    -92216.41 & NA & 0.13 & infill\\_ei  & 3.09 &   277601.04 &  5.265690e+03\\\\\n",
       "\t  19.4501277 & -5.983086e+03 & 17 & NA & NA & 0.00 &    -84447.64 & NA & 0.11 & infill\\_ei  & 2.52 &   269353.93 & -5.121006e+03\\\\\n",
       "\t  -5.7081391 &  3.987638e+04 & 18 & NA & NA & 0.00 &    -79091.10 & NA & 0.74 & infill\\_ei  & 0.84 &   203323.29 &  4.046043e+04\\\\\n",
       "\t  -9.8319327 &  3.945701e+04 & 19 & NA & NA & 0.00 &    -70717.70 & NA & 0.11 & infill\\_ei  & 0.78 &   185708.50 &  3.770038e+04\\\\\n",
       "\t  -1.4690901 &  1.786685e+04 & 20 & NA & NA & 0.00 &    -59717.04 & NA & 0.08 & infill\\_ei  & 0.87 &   181091.95 &  1.792541e+04\\\\\n",
       "\t -14.0185063 & -2.405883e+04 & 21 & NA & NA & 0.00 &    -54052.15 & NA & 0.15 & infill\\_ei  & 0.83 &   203185.30 & -1.680868e+04\\\\\n",
       "\t  15.5954142 &  2.107997e+04 & 22 & NA & NA & 0.00 &    -26931.07 & NA & 0.14 & infill\\_ei  & 2.37 &    93967.83 &  2.110692e+04\\\\\n",
       "\t  -8.7714550 &  4.360351e+04 & 23 & NA & NA & 0.00 &    -24805.55 & NA & 0.17 & infill\\_ei  & 1.96 &    63396.00 &  4.356178e+04\\\\\n",
       "\t  12.9216856 &  1.851430e+04 & 24 & NA & NA & 0.00 &    -22939.33 & NA & 0.10 & infill\\_ei  & 0.98 &    86209.73 &  1.852431e+04\\\\\n",
       "\t  -6.7234938 &  4.308885e+04 & 25 & NA & NA & 0.00 &    -22017.14 & NA & 0.14 & infill\\_ei  & 0.70 &    56988.34 &  4.308881e+04\\\\\n",
       "\\end{tabular}\n"
      ],
      "text/markdown": [
       "\n",
       "A data.table: 29 × 13\n",
       "\n",
       "| x &lt;dbl&gt; | y &lt;dbl&gt; | dob &lt;int&gt; | eol &lt;int&gt; | error.message &lt;chr&gt; | exec.time &lt;dbl&gt; | ei &lt;dbl&gt; | error.model &lt;chr&gt; | train.time &lt;dbl&gt; | prop.type &lt;chr&gt; | propose.time &lt;dbl&gt; | se &lt;dbl&gt; | mean &lt;dbl&gt; |\n",
       "|---|---|---|---|---|---|---|---|---|---|---|---|---|\n",
       "|  44.4615677 | -4.544899e+06 |  0 | NA | NA | 0.07 |           NA | NA |   NA | initdesign |   NA |          NA |            NA |\n",
       "| -30.4035122 | -2.148470e+06 |  0 | NA | NA | 0.00 |           NA | NA |   NA | initdesign |   NA |          NA |            NA |\n",
       "| -97.9854614 | -2.108116e+08 |  0 | NA | NA | 0.00 |           NA | NA |   NA | initdesign |   NA |          NA |            NA |\n",
       "|  58.9270638 | -1.668036e+07 |  0 | NA | NA | 0.00 |           NA | NA |   NA | initdesign |   NA |          NA |            NA |\n",
       "|   0.7023075 |  7.255935e+03 |  1 | NA | NA | 0.00 | -27814530.34 | NA | 0.27 | infill_ei  | 0.67 | 47506359.61 |  1.353021e+07 |\n",
       "| -16.4331489 | -1.107914e+05 |  2 | NA | NA | 0.00 |  -7962471.37 | NA | 0.14 | infill_ei  | 0.66 | 12184350.54 |  5.305566e+06 |\n",
       "|  22.2132002 | -6.614447e+04 |  3 | NA | NA | 0.00 |  -5627875.94 | NA | 0.09 | infill_ei  | 0.58 | 11958142.01 |  1.633677e+06 |\n",
       "|  99.9999463 | -1.651381e+08 |  4 | NA | NA | 0.00 |  -2626924.79 | NA | 0.14 | infill_ei  | 0.80 | 44309171.84 | -5.196542e+07 |\n",
       "|  11.5998651 |  1.440254e+04 |  5 | NA | NA | 0.00 |  -2310627.92 | NA | 0.03 | infill_ei  | 0.61 |  5382398.32 |  3.264307e+05 |\n",
       "| -23.2315147 | -6.853144e+05 |  6 | NA | NA | 0.00 |  -1256231.93 | NA | 0.08 | infill_ei  | 0.56 |  2695021.45 |  3.589966e+05 |\n",
       "|  -7.7594321 |  4.453939e+04 |  7 | NA | NA | 0.01 |  -1097435.54 | NA | 0.09 | infill_ei  | 0.67 |  2605268.31 |  1.285745e+05 |\n",
       "|  30.9625362 | -7.047666e+05 |  8 | NA | NA | 0.00 |   -864535.07 | NA | 0.09 | infill_ei  | 0.67 |  3319795.66 | -1.006975e+06 |\n",
       "|   6.2199843 | -1.233876e+03 |  9 | NA | NA | 0.00 |   -467086.11 | NA | 0.10 | infill_ei  | 0.61 |  1218183.11 |  6.262345e+03 |\n",
       "|  16.9431105 |  1.707732e+04 | 10 | NA | NA | 0.00 |   -388253.22 | NA | 0.14 | infill_ei  | 0.70 |  1015444.00 |  1.038036e+04 |\n",
       "| -11.9062186 |  1.905367e+04 | 11 | NA | NA | 0.00 |   -295805.02 | NA | 0.10 | infill_ei  | 2.36 |   743951.92 |  4.255958e+04 |\n",
       "|  -3.5577676 |  2.949368e+04 | 12 | NA | NA | 0.00 |   -247588.76 | NA | 0.08 | infill_ei  | 0.76 |   636305.36 |  3.191882e+04 |\n",
       "|  26.0641048 | -2.426711e+05 | 13 | NA | NA | 0.00 |   -159216.69 | NA | 0.36 | infill_ei  | 1.45 |   678516.58 | -2.186205e+05 |\n",
       "|  14.2783000 |  2.114556e+04 | 14 | NA | NA | 0.03 |   -118015.83 | NA | 0.11 | infill_ei  | 1.92 |   324438.27 |  2.102730e+04 |\n",
       "|   3.4651928 | -8.412041e+02 | 15 | NA | NA | 0.00 |   -107204.56 | NA | 0.33 | infill_ei  | 8.86 |   322183.93 | -6.404652e+02 |\n",
       "|   8.9459826 |  5.106076e+03 | 16 | NA | NA | 0.00 |    -92216.41 | NA | 0.13 | infill_ei  | 3.09 |   277601.04 |  5.265690e+03 |\n",
       "|  19.4501277 | -5.983086e+03 | 17 | NA | NA | 0.00 |    -84447.64 | NA | 0.11 | infill_ei  | 2.52 |   269353.93 | -5.121006e+03 |\n",
       "|  -5.7081391 |  3.987638e+04 | 18 | NA | NA | 0.00 |    -79091.10 | NA | 0.74 | infill_ei  | 0.84 |   203323.29 |  4.046043e+04 |\n",
       "|  -9.8319327 |  3.945701e+04 | 19 | NA | NA | 0.00 |    -70717.70 | NA | 0.11 | infill_ei  | 0.78 |   185708.50 |  3.770038e+04 |\n",
       "|  -1.4690901 |  1.786685e+04 | 20 | NA | NA | 0.00 |    -59717.04 | NA | 0.08 | infill_ei  | 0.87 |   181091.95 |  1.792541e+04 |\n",
       "| -14.0185063 | -2.405883e+04 | 21 | NA | NA | 0.00 |    -54052.15 | NA | 0.15 | infill_ei  | 0.83 |   203185.30 | -1.680868e+04 |\n",
       "|  15.5954142 |  2.107997e+04 | 22 | NA | NA | 0.00 |    -26931.07 | NA | 0.14 | infill_ei  | 2.37 |    93967.83 |  2.110692e+04 |\n",
       "|  -8.7714550 |  4.360351e+04 | 23 | NA | NA | 0.00 |    -24805.55 | NA | 0.17 | infill_ei  | 1.96 |    63396.00 |  4.356178e+04 |\n",
       "|  12.9216856 |  1.851430e+04 | 24 | NA | NA | 0.00 |    -22939.33 | NA | 0.10 | infill_ei  | 0.98 |    86209.73 |  1.852431e+04 |\n",
       "|  -6.7234938 |  4.308885e+04 | 25 | NA | NA | 0.00 |    -22017.14 | NA | 0.14 | infill_ei  | 0.70 |    56988.34 |  4.308881e+04 |\n",
       "\n"
      ],
      "text/plain": [
       "   x           y             dob eol error.message exec.time ei          \n",
       "1   44.4615677 -4.544899e+06  0  NA  NA            0.07                NA\n",
       "2  -30.4035122 -2.148470e+06  0  NA  NA            0.00                NA\n",
       "3  -97.9854614 -2.108116e+08  0  NA  NA            0.00                NA\n",
       "4   58.9270638 -1.668036e+07  0  NA  NA            0.00                NA\n",
       "5    0.7023075  7.255935e+03  1  NA  NA            0.00      -27814530.34\n",
       "6  -16.4331489 -1.107914e+05  2  NA  NA            0.00       -7962471.37\n",
       "7   22.2132002 -6.614447e+04  3  NA  NA            0.00       -5627875.94\n",
       "8   99.9999463 -1.651381e+08  4  NA  NA            0.00       -2626924.79\n",
       "9   11.5998651  1.440254e+04  5  NA  NA            0.00       -2310627.92\n",
       "10 -23.2315147 -6.853144e+05  6  NA  NA            0.00       -1256231.93\n",
       "11  -7.7594321  4.453939e+04  7  NA  NA            0.01       -1097435.54\n",
       "12  30.9625362 -7.047666e+05  8  NA  NA            0.00        -864535.07\n",
       "13   6.2199843 -1.233876e+03  9  NA  NA            0.00        -467086.11\n",
       "14  16.9431105  1.707732e+04 10  NA  NA            0.00        -388253.22\n",
       "15 -11.9062186  1.905367e+04 11  NA  NA            0.00        -295805.02\n",
       "16  -3.5577676  2.949368e+04 12  NA  NA            0.00        -247588.76\n",
       "17  26.0641048 -2.426711e+05 13  NA  NA            0.00        -159216.69\n",
       "18  14.2783000  2.114556e+04 14  NA  NA            0.03        -118015.83\n",
       "19   3.4651928 -8.412041e+02 15  NA  NA            0.00        -107204.56\n",
       "20   8.9459826  5.106076e+03 16  NA  NA            0.00         -92216.41\n",
       "21  19.4501277 -5.983086e+03 17  NA  NA            0.00         -84447.64\n",
       "22  -5.7081391  3.987638e+04 18  NA  NA            0.00         -79091.10\n",
       "23  -9.8319327  3.945701e+04 19  NA  NA            0.00         -70717.70\n",
       "24  -1.4690901  1.786685e+04 20  NA  NA            0.00         -59717.04\n",
       "25 -14.0185063 -2.405883e+04 21  NA  NA            0.00         -54052.15\n",
       "26  15.5954142  2.107997e+04 22  NA  NA            0.00         -26931.07\n",
       "27  -8.7714550  4.360351e+04 23  NA  NA            0.00         -24805.55\n",
       "28  12.9216856  1.851430e+04 24  NA  NA            0.00         -22939.33\n",
       "29  -6.7234938  4.308885e+04 25  NA  NA            0.00         -22017.14\n",
       "   error.model train.time prop.type  propose.time se          mean         \n",
       "1  NA            NA       initdesign   NA                  NA            NA\n",
       "2  NA            NA       initdesign   NA                  NA            NA\n",
       "3  NA            NA       initdesign   NA                  NA            NA\n",
       "4  NA            NA       initdesign   NA                  NA            NA\n",
       "5  NA          0.27       infill_ei  0.67         47506359.61  1.353021e+07\n",
       "6  NA          0.14       infill_ei  0.66         12184350.54  5.305566e+06\n",
       "7  NA          0.09       infill_ei  0.58         11958142.01  1.633677e+06\n",
       "8  NA          0.14       infill_ei  0.80         44309171.84 -5.196542e+07\n",
       "9  NA          0.03       infill_ei  0.61          5382398.32  3.264307e+05\n",
       "10 NA          0.08       infill_ei  0.56          2695021.45  3.589966e+05\n",
       "11 NA          0.09       infill_ei  0.67          2605268.31  1.285745e+05\n",
       "12 NA          0.09       infill_ei  0.67          3319795.66 -1.006975e+06\n",
       "13 NA          0.10       infill_ei  0.61          1218183.11  6.262345e+03\n",
       "14 NA          0.14       infill_ei  0.70          1015444.00  1.038036e+04\n",
       "15 NA          0.10       infill_ei  2.36           743951.92  4.255958e+04\n",
       "16 NA          0.08       infill_ei  0.76           636305.36  3.191882e+04\n",
       "17 NA          0.36       infill_ei  1.45           678516.58 -2.186205e+05\n",
       "18 NA          0.11       infill_ei  1.92           324438.27  2.102730e+04\n",
       "19 NA          0.33       infill_ei  8.86           322183.93 -6.404652e+02\n",
       "20 NA          0.13       infill_ei  3.09           277601.04  5.265690e+03\n",
       "21 NA          0.11       infill_ei  2.52           269353.93 -5.121006e+03\n",
       "22 NA          0.74       infill_ei  0.84           203323.29  4.046043e+04\n",
       "23 NA          0.11       infill_ei  0.78           185708.50  3.770038e+04\n",
       "24 NA          0.08       infill_ei  0.87           181091.95  1.792541e+04\n",
       "25 NA          0.15       infill_ei  0.83           203185.30 -1.680868e+04\n",
       "26 NA          0.14       infill_ei  2.37            93967.83  2.110692e+04\n",
       "27 NA          0.17       infill_ei  1.96            63396.00  4.356178e+04\n",
       "28 NA          0.10       infill_ei  0.98            86209.73  1.852431e+04\n",
       "29 NA          0.14       infill_ei  0.70            56988.34  4.308881e+04"
      ]
     },
     "metadata": {},
     "output_type": "display_data"
    }
   ],
   "source": [
    "tb_resultados"
   ]
  },
  {
   "cell_type": "code",
   "execution_count": 13,
   "metadata": {
    "vscode": {
     "languageId": "r"
    }
   },
   "outputs": [
    {
     "data": {
      "text/html": [
       "<table class=\"dataframe\">\n",
       "<caption>A data.table: 1 × 13</caption>\n",
       "<thead>\n",
       "\t<tr><th scope=col>x</th><th scope=col>y</th><th scope=col>dob</th><th scope=col>eol</th><th scope=col>error.message</th><th scope=col>exec.time</th><th scope=col>ei</th><th scope=col>error.model</th><th scope=col>train.time</th><th scope=col>prop.type</th><th scope=col>propose.time</th><th scope=col>se</th><th scope=col>mean</th></tr>\n",
       "\t<tr><th scope=col>&lt;dbl&gt;</th><th scope=col>&lt;dbl&gt;</th><th scope=col>&lt;int&gt;</th><th scope=col>&lt;int&gt;</th><th scope=col>&lt;chr&gt;</th><th scope=col>&lt;dbl&gt;</th><th scope=col>&lt;dbl&gt;</th><th scope=col>&lt;chr&gt;</th><th scope=col>&lt;dbl&gt;</th><th scope=col>&lt;chr&gt;</th><th scope=col>&lt;dbl&gt;</th><th scope=col>&lt;dbl&gt;</th><th scope=col>&lt;dbl&gt;</th></tr>\n",
       "</thead>\n",
       "<tbody>\n",
       "\t<tr><td>-7.759432</td><td>44539.39</td><td>7</td><td>NA</td><td>NA</td><td>0.01</td><td>-1097436</td><td>NA</td><td>0.09</td><td>infill_ei</td><td>0.67</td><td>2605268</td><td>128574.5</td></tr>\n",
       "</tbody>\n",
       "</table>\n"
      ],
      "text/latex": [
       "A data.table: 1 × 13\n",
       "\\begin{tabular}{lllllllllllll}\n",
       " x & y & dob & eol & error.message & exec.time & ei & error.model & train.time & prop.type & propose.time & se & mean\\\\\n",
       " <dbl> & <dbl> & <int> & <int> & <chr> & <dbl> & <dbl> & <chr> & <dbl> & <chr> & <dbl> & <dbl> & <dbl>\\\\\n",
       "\\hline\n",
       "\t -7.759432 & 44539.39 & 7 & NA & NA & 0.01 & -1097436 & NA & 0.09 & infill\\_ei & 0.67 & 2605268 & 128574.5\\\\\n",
       "\\end{tabular}\n"
      ],
      "text/markdown": [
       "\n",
       "A data.table: 1 × 13\n",
       "\n",
       "| x &lt;dbl&gt; | y &lt;dbl&gt; | dob &lt;int&gt; | eol &lt;int&gt; | error.message &lt;chr&gt; | exec.time &lt;dbl&gt; | ei &lt;dbl&gt; | error.model &lt;chr&gt; | train.time &lt;dbl&gt; | prop.type &lt;chr&gt; | propose.time &lt;dbl&gt; | se &lt;dbl&gt; | mean &lt;dbl&gt; |\n",
       "|---|---|---|---|---|---|---|---|---|---|---|---|---|\n",
       "| -7.759432 | 44539.39 | 7 | NA | NA | 0.01 | -1097436 | NA | 0.09 | infill_ei | 0.67 | 2605268 | 128574.5 |\n",
       "\n"
      ],
      "text/plain": [
       "  x         y        dob eol error.message exec.time ei       error.model\n",
       "1 -7.759432 44539.39 7   NA  NA            0.01      -1097436 NA         \n",
       "  train.time prop.type propose.time se      mean    \n",
       "1 0.09       infill_ei 0.67         2605268 128574.5"
      ]
     },
     "metadata": {},
     "output_type": "display_data"
    }
   ],
   "source": [
    "tb_resultados[ which.max( tb_resultados$y ) ]"
   ]
  },
  {
   "cell_type": "markdown",
   "metadata": {},
   "source": [
    "### Conclusiones"
   ]
  },
  {
   "cell_type": "markdown",
   "metadata": {},
   "source": [
    "La gran pregunta es :  la Optimización Bayesiana, ¿se focaliza luego de muchas iteraciones solo en el entorno del máximo que está cerca de x= -8 ?"
   ]
  }
 ],
 "metadata": {
  "kernelspec": {
   "display_name": "R",
   "language": "R",
   "name": "ir"
  },
  "language_info": {
   "codemirror_mode": "r",
   "file_extension": ".r",
   "mimetype": "text/x-r-source",
   "name": "R",
   "pygments_lexer": "r",
   "version": "4.2.1"
  }
 },
 "nbformat": 4,
 "nbformat_minor": 4
}
